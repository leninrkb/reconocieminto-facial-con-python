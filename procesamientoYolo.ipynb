{
 "cells": [
  {
   "cell_type": "code",
   "execution_count": 1,
   "metadata": {},
   "outputs": [],
   "source": [
    "import warnings\n",
    "warnings.filterwarnings('ignore')"
   ]
  },
  {
   "cell_type": "code",
   "execution_count": 11,
   "metadata": {},
   "outputs": [],
   "source": [
    "import datag\n",
    "import cv2"
   ]
  },
  {
   "cell_type": "code",
   "execution_count": 12,
   "metadata": {},
   "outputs": [
    {
     "name": "stdout",
     "output_type": "stream",
     "text": [
      "['Abraham_Danilo_Miranda_Lopez', 'andres', 'Bryan_Eduardo_Martinez_Nunez', 'Luis_Fernando_Zerna_Ramos', 'mateo']\n"
     ]
    }
   ],
   "source": [
    "path_dataset = 'D:/datasets/dataset_mateo/tratados'\n",
    "nombres_directorios = datag.extraer_nombres(path_dataset)\n",
    "print(nombres_directorios)"
   ]
  },
  {
   "cell_type": "code",
   "execution_count": 13,
   "metadata": {},
   "outputs": [
    {
     "name": "stdout",
     "output_type": "stream",
     "text": [
      "dict_keys(['Abraham_Danilo_Miranda_Lopez', 'andres', 'Bryan_Eduardo_Martinez_Nunez', 'Luis_Fernando_Zerna_Ramos', 'mateo'])\n"
     ]
    }
   ],
   "source": [
    "etiquetas_archivos = {}\n",
    "for directorio in nombres_directorios:\n",
    "    nombres_archivos = datag.extraer_nombres(path_dataset + '/' + directorio)\n",
    "    etiquetas_archivos[directorio] = nombres_archivos\n",
    "print(etiquetas_archivos.keys())"
   ]
  },
  {
   "cell_type": "code",
   "execution_count": 14,
   "metadata": {},
   "outputs": [],
   "source": [
    "etiquetas_imgs = {}\n",
    "dimension_img = 100\n",
    "for etiqueta in etiquetas_archivos:\n",
    "    archivos = etiquetas_archivos[etiqueta]\n",
    "    lista = []\n",
    "    for archivo in archivos:\n",
    "        path = path_dataset + '/' + etiqueta + '/' + archivo\n",
    "        img_array = cv2.imread(path, cv2.IMREAD_GRAYSCALE)\n",
    "        img_array = cv2.resize(img_array, (dimension_img, dimension_img))\n",
    "        lista.append(img_array)\n",
    "    etiquetas_imgs[etiqueta] = lista"
   ]
  },
  {
   "cell_type": "code",
   "execution_count": 15,
   "metadata": {},
   "outputs": [],
   "source": [
    "path_salida = 'D:/GitHub/reconocieminto-facial-con-python/dataset'\n",
    "datag.os.makedirs(path_salida)\n",
    "for etiqueta in etiquetas_imgs:\n",
    "    datag.os.makedirs(path_salida + '/' + etiqueta)\n",
    "\n",
    "c = 1\n",
    "aumentoXimagen = 25\n",
    "for etiqueta in etiquetas_imgs:\n",
    "    arrays = etiquetas_imgs[etiqueta]\n",
    "    for index, img_array in enumerate(arrays):\n",
    "        for i in range(aumentoXimagen):\n",
    "            nuevo = datag.aumentar_imagen(img_array, path_salida, c, write=False)\n",
    "            path = path_salida + '/' + etiqueta + '/' + str(c) + '.jpg'\n",
    "            cv2.imwrite(path, nuevo)\n",
    "            c+=1"
   ]
  },
  {
   "cell_type": "code",
   "execution_count": null,
   "metadata": {},
   "outputs": [],
   "source": []
  }
 ],
 "metadata": {
  "kernelspec": {
   "display_name": "rostros",
   "language": "python",
   "name": "python3"
  },
  "language_info": {
   "codemirror_mode": {
    "name": "ipython",
    "version": 3
   },
   "file_extension": ".py",
   "mimetype": "text/x-python",
   "name": "python",
   "nbconvert_exporter": "python",
   "pygments_lexer": "ipython3",
   "version": "3.8.17"
  },
  "orig_nbformat": 4
 },
 "nbformat": 4,
 "nbformat_minor": 2
}
