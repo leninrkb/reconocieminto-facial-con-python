{
 "cells": [
  {
   "cell_type": "code",
   "execution_count": 2,
   "metadata": {},
   "outputs": [],
   "source": [
    "import warnings\n",
    "warnings.filterwarnings('ignore')"
   ]
  },
  {
   "cell_type": "code",
   "execution_count": 3,
   "metadata": {},
   "outputs": [],
   "source": [
    "import datag\n",
    "import cv2"
   ]
  },
  {
   "cell_type": "markdown",
   "metadata": {},
   "source": [
    "mapeo los directorios a trabajar"
   ]
  },
  {
   "cell_type": "code",
   "execution_count": 15,
   "metadata": {},
   "outputs": [
    {
     "name": "stdout",
     "output_type": "stream",
     "text": [
      "['andres', 'mateo']\n"
     ]
    }
   ],
   "source": [
    "path_dataset = 'D:/datasets/dataset_mateo/tratados'\n",
    "nombres_directorios = datag.extraer_nombres(path_dataset)\n",
    "print(nombres_directorios)"
   ]
  },
  {
   "cell_type": "markdown",
   "metadata": {},
   "source": [
    "mapeo los archivos dentro de cada directorio"
   ]
  },
  {
   "cell_type": "code",
   "execution_count": 16,
   "metadata": {},
   "outputs": [
    {
     "name": "stdout",
     "output_type": "stream",
     "text": [
      "dict_keys(['andres', 'mateo'])\n"
     ]
    }
   ],
   "source": [
    "etiquetas_archivos = {}\n",
    "for directorio in nombres_directorios:\n",
    "    nombres_archivos = datag.extraer_nombres(path_dataset + '/' + directorio)\n",
    "    etiquetas_archivos[directorio] = nombres_archivos\n",
    "print(etiquetas_archivos.keys())"
   ]
  },
  {
   "cell_type": "markdown",
   "metadata": {},
   "source": [
    "leo las imagenes mapeadas como escala de grises y las reduzco a una misma dimension"
   ]
  },
  {
   "cell_type": "code",
   "execution_count": 17,
   "metadata": {},
   "outputs": [],
   "source": [
    "etiquetas_imgs = {}\n",
    "dimension_img = 100\n",
    "for etiqueta in etiquetas_archivos:\n",
    "    archivos = etiquetas_archivos[etiqueta]\n",
    "    lista = []\n",
    "    for archivo in archivos:\n",
    "        path = path_dataset + '/' + etiqueta + '/' + archivo\n",
    "        img_array = cv2.imread(path, cv2.IMREAD_GRAYSCALE)\n",
    "        img_array = datag.redimensionar_img(img_array, dimension_img, dimension_img, interpolacion=datag.cv2.INTER_NEAREST, mantener_aspecto=False)\n",
    "        lista.append(img_array)\n",
    "    etiquetas_imgs[etiqueta] = lista"
   ]
  },
  {
   "cell_type": "markdown",
   "metadata": {},
   "source": [
    "genero los direcotrios de salida y hago aumento de datos"
   ]
  },
  {
   "cell_type": "code",
   "execution_count": 18,
   "metadata": {},
   "outputs": [],
   "source": [
    "path_salida = 'D:/GitHub/reconocieminto-facial-con-python/dataset'\n",
    "datag.os.makedirs(path_salida)\n",
    "for etiqueta in etiquetas_imgs:\n",
    "    datag.os.makedirs(path_salida + '/' + etiqueta)\n",
    "\n",
    "c = 1\n",
    "for etiqueta in etiquetas_imgs:\n",
    "    arrays = etiquetas_imgs[etiqueta]\n",
    "    for index, img_array in enumerate(arrays):\n",
    "        for i in range(10):\n",
    "            nuevo = datag.aumentar_imagen(img_array, path_salida, c, write=False)\n",
    "            path = path_salida + '/' + etiqueta + '/' + str(c) + '.jpg'\n",
    "            cv2.imwrite(path, nuevo)\n",
    "            c+=1\n",
    "\n"
   ]
  },
  {
   "cell_type": "code",
   "execution_count": 4,
   "metadata": {},
   "outputs": [],
   "source": [
    "from sklearn.model_selection import train_test_split"
   ]
  },
  {
   "cell_type": "markdown",
   "metadata": {},
   "source": [
    "leo los directorios, el nombre del directorio sera la etiqueta de las imagenes que contenga"
   ]
  },
  {
   "cell_type": "code",
   "execution_count": 5,
   "metadata": {},
   "outputs": [
    {
     "name": "stdout",
     "output_type": "stream",
     "text": [
      "['andres', 'mateo']\n"
     ]
    }
   ],
   "source": [
    "path_dataset = 'D:/GitHub/reconocieminto-facial-con-python/dataset/'\n",
    "nombres_directorios = datag.extraer_nombres(path_dataset)\n",
    "print(nombres_directorios)"
   ]
  },
  {
   "cell_type": "markdown",
   "metadata": {},
   "source": [
    "agrego el nombre de la etiqueta por cada imagen"
   ]
  },
  {
   "cell_type": "code",
   "execution_count": 6,
   "metadata": {},
   "outputs": [
    {
     "name": "stdout",
     "output_type": "stream",
     "text": [
      "['andres', 'andres', 'andres', 'andres', 'andres', 'andres', 'andres', 'andres', 'andres', 'andres', 'andres', 'andres', 'andres', 'andres', 'andres', 'andres', 'andres', 'andres', 'andres', 'andres', 'andres', 'andres', 'andres', 'andres', 'andres', 'andres', 'andres', 'andres', 'andres', 'andres', 'andres', 'andres', 'andres', 'andres', 'andres', 'andres', 'andres', 'andres', 'andres', 'andres', 'andres', 'andres', 'andres', 'andres', 'andres', 'andres', 'andres', 'andres', 'andres', 'andres', 'andres', 'andres', 'andres', 'andres', 'andres', 'andres', 'andres', 'andres', 'andres', 'andres', 'andres', 'andres', 'andres', 'andres', 'andres', 'andres', 'andres', 'andres', 'andres', 'andres', 'andres', 'andres', 'andres', 'andres', 'andres', 'andres', 'andres', 'andres', 'andres', 'andres', 'andres', 'andres', 'andres', 'andres', 'andres', 'andres', 'andres', 'andres', 'andres', 'andres', 'andres', 'andres', 'andres', 'andres', 'andres', 'andres', 'andres', 'andres', 'andres', 'andres', 'andres', 'andres', 'andres', 'andres', 'andres', 'andres', 'andres', 'andres', 'andres', 'andres', 'andres', 'andres', 'andres', 'andres', 'andres', 'andres', 'andres', 'andres', 'andres', 'andres', 'andres', 'andres', 'andres', 'andres', 'andres', 'andres', 'andres', 'andres', 'andres', 'andres', 'andres', 'andres', 'andres', 'andres', 'andres', 'andres', 'andres', 'andres', 'andres', 'andres', 'andres', 'andres', 'andres', 'andres', 'andres', 'andres', 'andres', 'andres', 'andres', 'andres', 'andres', 'andres', 'andres', 'andres', 'andres', 'andres', 'andres', 'andres', 'andres', 'andres', 'andres', 'andres', 'andres', 'andres', 'andres', 'andres', 'andres', 'andres', 'andres', 'andres', 'andres', 'andres', 'andres', 'andres', 'andres', 'andres', 'andres', 'andres', 'andres', 'andres', 'andres', 'andres', 'andres', 'andres', 'andres', 'andres', 'andres', 'andres', 'andres', 'andres', 'andres', 'andres', 'andres', 'andres', 'andres', 'andres', 'andres', 'andres', 'andres', 'andres', 'andres', 'andres', 'andres', 'andres', 'andres', 'andres', 'andres', 'andres', 'andres', 'andres', 'andres', 'andres', 'andres', 'andres', 'andres', 'andres', 'andres', 'andres', 'andres', 'andres', 'andres', 'andres', 'andres', 'andres', 'andres', 'andres', 'andres', 'andres', 'andres', 'andres', 'andres', 'andres', 'andres', 'andres', 'andres', 'andres', 'andres', 'andres', 'andres', 'andres', 'mateo', 'mateo', 'mateo', 'mateo', 'mateo', 'mateo', 'mateo', 'mateo', 'mateo', 'mateo', 'mateo', 'mateo', 'mateo', 'mateo', 'mateo', 'mateo', 'mateo', 'mateo', 'mateo', 'mateo', 'mateo', 'mateo', 'mateo', 'mateo', 'mateo', 'mateo', 'mateo', 'mateo', 'mateo', 'mateo', 'mateo', 'mateo', 'mateo', 'mateo', 'mateo', 'mateo', 'mateo', 'mateo', 'mateo', 'mateo', 'mateo', 'mateo', 'mateo', 'mateo', 'mateo', 'mateo', 'mateo', 'mateo', 'mateo', 'mateo', 'mateo', 'mateo', 'mateo', 'mateo', 'mateo', 'mateo', 'mateo', 'mateo', 'mateo', 'mateo', 'mateo', 'mateo', 'mateo', 'mateo', 'mateo', 'mateo', 'mateo', 'mateo', 'mateo', 'mateo', 'mateo', 'mateo', 'mateo', 'mateo', 'mateo', 'mateo', 'mateo', 'mateo', 'mateo', 'mateo', 'mateo', 'mateo', 'mateo', 'mateo', 'mateo', 'mateo', 'mateo', 'mateo', 'mateo', 'mateo', 'mateo', 'mateo', 'mateo', 'mateo', 'mateo', 'mateo', 'mateo', 'mateo', 'mateo', 'mateo', 'mateo', 'mateo', 'mateo', 'mateo', 'mateo', 'mateo', 'mateo', 'mateo', 'mateo', 'mateo', 'mateo', 'mateo', 'mateo', 'mateo', 'mateo', 'mateo', 'mateo', 'mateo', 'mateo', 'mateo', 'mateo', 'mateo', 'mateo', 'mateo', 'mateo', 'mateo', 'mateo', 'mateo', 'mateo', 'mateo', 'mateo', 'mateo', 'mateo', 'mateo', 'mateo', 'mateo', 'mateo', 'mateo', 'mateo', 'mateo', 'mateo', 'mateo', 'mateo', 'mateo', 'mateo', 'mateo', 'mateo', 'mateo', 'mateo', 'mateo', 'mateo', 'mateo', 'mateo', 'mateo', 'mateo', 'mateo', 'mateo', 'mateo', 'mateo', 'mateo', 'mateo', 'mateo', 'mateo', 'mateo', 'mateo', 'mateo', 'mateo', 'mateo', 'mateo', 'mateo', 'mateo', 'mateo', 'mateo', 'mateo', 'mateo', 'mateo', 'mateo', 'mateo', 'mateo', 'mateo', 'mateo', 'mateo', 'mateo', 'mateo', 'mateo', 'mateo', 'mateo', 'mateo', 'mateo', 'mateo', 'mateo', 'mateo', 'mateo', 'mateo', 'mateo', 'mateo', 'mateo', 'mateo', 'mateo', 'mateo', 'mateo', 'mateo', 'mateo', 'mateo', 'mateo', 'mateo', 'mateo', 'mateo', 'mateo', 'mateo', 'mateo', 'mateo', 'mateo', 'mateo', 'mateo', 'mateo', 'mateo', 'mateo', 'mateo', 'mateo', 'mateo', 'mateo', 'mateo', 'mateo', 'mateo', 'mateo', 'mateo', 'mateo', 'mateo', 'mateo', 'mateo', 'mateo', 'mateo', 'mateo', 'mateo', 'mateo', 'mateo', 'mateo', 'mateo', 'mateo']\n",
      "480\n"
     ]
    }
   ],
   "source": [
    "etiquetas = []\n",
    "for nombre in nombres_directorios:\n",
    "    imgs = datag.extraer_nombres(path_dataset + nombre)\n",
    "    total = len(imgs)\n",
    "    for  i in range(total):\n",
    "        etiquetas.append(nombre)\n",
    "print(etiquetas)\n",
    "print(len(etiquetas))"
   ]
  },
  {
   "cell_type": "markdown",
   "metadata": {},
   "source": [
    "cargo las imagenes"
   ]
  },
  {
   "cell_type": "code",
   "execution_count": 7,
   "metadata": {},
   "outputs": [],
   "source": [
    "imagenes = [] \n",
    "for nombre in nombres_directorios:\n",
    "    imgs = datag.extraer_nombres(path_dataset + nombre)\n",
    "    for img in imgs:\n",
    "        img_ = cv2.imread(path_dataset + nombre + '/' + img, cv2.IMREAD_GRAYSCALE)\n",
    "        img_ = img_.flatten()\n",
    "        imagenes.append(img_)"
   ]
  },
  {
   "cell_type": "markdown",
   "metadata": {},
   "source": [
    "separo en test y train"
   ]
  },
  {
   "cell_type": "code",
   "execution_count": 8,
   "metadata": {},
   "outputs": [],
   "source": [
    "xtrain, xtest, ytrain, ytest = train_test_split(imagenes, etiquetas, random_state=10)"
   ]
  },
  {
   "cell_type": "code",
   "execution_count": 9,
   "metadata": {},
   "outputs": [
    {
     "name": "stdout",
     "output_type": "stream",
     "text": [
      "360\n",
      "360\n",
      "['mateo', 'andres', 'andres', 'andres', 'andres', 'mateo', 'mateo', 'mateo', 'mateo', 'mateo', 'andres', 'mateo', 'andres', 'andres', 'andres', 'mateo', 'andres', 'andres', 'andres', 'mateo', 'andres', 'mateo', 'andres', 'mateo', 'andres', 'mateo', 'mateo', 'andres', 'andres', 'andres', 'mateo', 'andres', 'andres', 'andres', 'mateo', 'andres', 'andres', 'mateo', 'andres', 'andres', 'andres', 'mateo', 'andres', 'andres', 'andres', 'andres', 'andres', 'mateo', 'andres', 'mateo', 'mateo', 'andres', 'mateo', 'mateo', 'andres', 'andres', 'mateo', 'andres', 'andres', 'mateo', 'andres', 'andres', 'andres', 'andres', 'mateo', 'mateo', 'andres', 'andres', 'andres', 'andres', 'mateo', 'andres', 'mateo', 'andres', 'mateo', 'andres', 'andres', 'andres', 'andres', 'mateo', 'mateo', 'andres', 'mateo', 'andres', 'andres', 'mateo', 'andres', 'mateo', 'andres', 'mateo', 'mateo', 'andres', 'andres', 'mateo', 'mateo', 'andres', 'mateo', 'andres', 'mateo', 'mateo', 'mateo', 'andres', 'andres', 'mateo', 'mateo', 'mateo', 'mateo', 'andres', 'mateo', 'mateo', 'mateo', 'mateo', 'mateo', 'andres', 'andres', 'mateo', 'mateo', 'andres', 'mateo', 'andres', 'andres', 'mateo', 'mateo', 'andres', 'andres', 'andres', 'andres', 'andres', 'mateo', 'mateo', 'andres', 'andres', 'mateo', 'mateo', 'andres', 'mateo', 'mateo', 'andres', 'mateo', 'andres', 'andres', 'mateo', 'mateo', 'mateo', 'mateo', 'mateo', 'mateo', 'mateo', 'mateo', 'andres', 'mateo', 'mateo', 'andres', 'mateo', 'andres', 'mateo', 'mateo', 'mateo', 'andres', 'mateo', 'andres', 'mateo', 'mateo', 'andres', 'andres', 'andres', 'mateo', 'andres', 'mateo', 'mateo', 'mateo', 'mateo', 'mateo', 'andres', 'mateo', 'mateo', 'andres', 'andres', 'andres', 'mateo', 'andres', 'mateo', 'mateo', 'mateo', 'andres', 'andres', 'andres', 'andres', 'mateo', 'andres', 'mateo', 'mateo', 'andres', 'andres', 'mateo', 'andres', 'mateo', 'andres', 'andres', 'mateo', 'mateo', 'andres', 'mateo', 'andres', 'andres', 'andres', 'mateo', 'mateo', 'andres', 'mateo', 'andres', 'mateo', 'mateo', 'mateo', 'andres', 'andres', 'andres', 'mateo', 'andres', 'andres', 'mateo', 'mateo', 'mateo', 'andres', 'mateo', 'andres', 'andres', 'mateo', 'mateo', 'andres', 'andres', 'andres', 'mateo', 'mateo', 'mateo', 'andres', 'andres', 'mateo', 'mateo', 'mateo', 'andres', 'andres', 'mateo', 'mateo', 'mateo', 'mateo', 'mateo', 'andres', 'andres', 'andres', 'andres', 'andres', 'andres', 'mateo', 'mateo', 'andres', 'mateo', 'andres', 'andres', 'andres', 'mateo', 'andres', 'andres', 'mateo', 'andres', 'mateo', 'andres', 'andres', 'andres', 'andres', 'andres', 'mateo', 'andres', 'andres', 'mateo', 'mateo', 'mateo', 'mateo', 'andres', 'mateo', 'mateo', 'mateo', 'mateo', 'mateo', 'andres', 'andres', 'andres', 'mateo', 'mateo', 'mateo', 'mateo', 'andres', 'andres', 'andres', 'mateo', 'mateo', 'andres', 'andres', 'mateo', 'mateo', 'mateo', 'andres', 'andres', 'mateo', 'mateo', 'mateo', 'andres', 'mateo', 'mateo', 'mateo', 'andres', 'andres', 'mateo', 'mateo', 'mateo', 'andres', 'mateo', 'andres', 'andres', 'andres', 'mateo', 'mateo', 'mateo', 'andres', 'mateo', 'mateo', 'mateo', 'andres', 'andres', 'mateo', 'andres', 'andres', 'mateo', 'andres', 'andres', 'andres', 'andres', 'mateo', 'mateo', 'andres', 'mateo', 'andres', 'mateo', 'andres', 'mateo', 'mateo', 'andres', 'mateo', 'andres', 'andres', 'mateo', 'mateo', 'andres', 'andres', 'andres', 'mateo', 'mateo', 'andres', 'andres', 'mateo']\n",
      "['andres', 'andres', 'mateo', 'mateo', 'mateo', 'andres', 'mateo', 'andres', 'mateo', 'andres', 'mateo', 'andres', 'mateo', 'mateo', 'mateo', 'mateo', 'andres', 'mateo', 'mateo', 'andres', 'andres', 'andres', 'mateo', 'andres', 'mateo', 'mateo', 'andres', 'mateo', 'andres', 'mateo', 'andres', 'mateo', 'andres', 'mateo', 'andres', 'andres', 'andres', 'andres', 'mateo', 'andres', 'mateo', 'mateo', 'andres', 'mateo', 'mateo', 'mateo', 'andres', 'mateo', 'andres', 'andres', 'mateo', 'andres', 'mateo', 'mateo', 'mateo', 'mateo', 'mateo', 'andres', 'mateo', 'mateo', 'andres', 'andres', 'mateo', 'andres', 'mateo', 'mateo', 'andres', 'andres', 'andres', 'andres', 'mateo', 'mateo', 'andres', 'andres', 'andres', 'andres', 'andres', 'andres', 'mateo', 'mateo', 'andres', 'mateo', 'andres', 'andres', 'mateo', 'mateo', 'andres', 'mateo', 'andres', 'mateo', 'mateo', 'mateo', 'mateo', 'andres', 'andres', 'andres', 'mateo', 'andres', 'mateo', 'mateo', 'mateo', 'andres', 'mateo', 'andres', 'mateo', 'andres', 'andres', 'andres', 'andres', 'mateo', 'mateo', 'mateo', 'andres', 'andres', 'andres', 'mateo', 'andres', 'mateo', 'andres', 'mateo']\n",
      "[155 158 157 ...  21  44  58]\n"
     ]
    }
   ],
   "source": [
    "print(len(xtrain))\n",
    "print(len(ytrain))\n",
    "print(ytrain)\n",
    "print(ytest)\n",
    "print(xtrain[0])"
   ]
  },
  {
   "cell_type": "code",
   "execution_count": 37,
   "metadata": {},
   "outputs": [],
   "source": [
    "from sklearn.metrics import accuracy_score\n",
    "from sklearn import svm"
   ]
  },
  {
   "cell_type": "code",
   "execution_count": 38,
   "metadata": {},
   "outputs": [],
   "source": [
    "modelo = svm.SVC()"
   ]
  },
  {
   "cell_type": "code",
   "execution_count": 39,
   "metadata": {},
   "outputs": [
    {
     "data": {
      "text/html": [
       "<style>#sk-container-id-1 {color: black;}#sk-container-id-1 pre{padding: 0;}#sk-container-id-1 div.sk-toggleable {background-color: white;}#sk-container-id-1 label.sk-toggleable__label {cursor: pointer;display: block;width: 100%;margin-bottom: 0;padding: 0.3em;box-sizing: border-box;text-align: center;}#sk-container-id-1 label.sk-toggleable__label-arrow:before {content: \"▸\";float: left;margin-right: 0.25em;color: #696969;}#sk-container-id-1 label.sk-toggleable__label-arrow:hover:before {color: black;}#sk-container-id-1 div.sk-estimator:hover label.sk-toggleable__label-arrow:before {color: black;}#sk-container-id-1 div.sk-toggleable__content {max-height: 0;max-width: 0;overflow: hidden;text-align: left;background-color: #f0f8ff;}#sk-container-id-1 div.sk-toggleable__content pre {margin: 0.2em;color: black;border-radius: 0.25em;background-color: #f0f8ff;}#sk-container-id-1 input.sk-toggleable__control:checked~div.sk-toggleable__content {max-height: 200px;max-width: 100%;overflow: auto;}#sk-container-id-1 input.sk-toggleable__control:checked~label.sk-toggleable__label-arrow:before {content: \"▾\";}#sk-container-id-1 div.sk-estimator input.sk-toggleable__control:checked~label.sk-toggleable__label {background-color: #d4ebff;}#sk-container-id-1 div.sk-label input.sk-toggleable__control:checked~label.sk-toggleable__label {background-color: #d4ebff;}#sk-container-id-1 input.sk-hidden--visually {border: 0;clip: rect(1px 1px 1px 1px);clip: rect(1px, 1px, 1px, 1px);height: 1px;margin: -1px;overflow: hidden;padding: 0;position: absolute;width: 1px;}#sk-container-id-1 div.sk-estimator {font-family: monospace;background-color: #f0f8ff;border: 1px dotted black;border-radius: 0.25em;box-sizing: border-box;margin-bottom: 0.5em;}#sk-container-id-1 div.sk-estimator:hover {background-color: #d4ebff;}#sk-container-id-1 div.sk-parallel-item::after {content: \"\";width: 100%;border-bottom: 1px solid gray;flex-grow: 1;}#sk-container-id-1 div.sk-label:hover label.sk-toggleable__label {background-color: #d4ebff;}#sk-container-id-1 div.sk-serial::before {content: \"\";position: absolute;border-left: 1px solid gray;box-sizing: border-box;top: 0;bottom: 0;left: 50%;z-index: 0;}#sk-container-id-1 div.sk-serial {display: flex;flex-direction: column;align-items: center;background-color: white;padding-right: 0.2em;padding-left: 0.2em;position: relative;}#sk-container-id-1 div.sk-item {position: relative;z-index: 1;}#sk-container-id-1 div.sk-parallel {display: flex;align-items: stretch;justify-content: center;background-color: white;position: relative;}#sk-container-id-1 div.sk-item::before, #sk-container-id-1 div.sk-parallel-item::before {content: \"\";position: absolute;border-left: 1px solid gray;box-sizing: border-box;top: 0;bottom: 0;left: 50%;z-index: -1;}#sk-container-id-1 div.sk-parallel-item {display: flex;flex-direction: column;z-index: 1;position: relative;background-color: white;}#sk-container-id-1 div.sk-parallel-item:first-child::after {align-self: flex-end;width: 50%;}#sk-container-id-1 div.sk-parallel-item:last-child::after {align-self: flex-start;width: 50%;}#sk-container-id-1 div.sk-parallel-item:only-child::after {width: 0;}#sk-container-id-1 div.sk-dashed-wrapped {border: 1px dashed gray;margin: 0 0.4em 0.5em 0.4em;box-sizing: border-box;padding-bottom: 0.4em;background-color: white;}#sk-container-id-1 div.sk-label label {font-family: monospace;font-weight: bold;display: inline-block;line-height: 1.2em;}#sk-container-id-1 div.sk-label-container {text-align: center;}#sk-container-id-1 div.sk-container {/* jupyter's `normalize.less` sets `[hidden] { display: none; }` but bootstrap.min.css set `[hidden] { display: none !important; }` so we also need the `!important` here to be able to override the default hidden behavior on the sphinx rendered scikit-learn.org. See: https://github.com/scikit-learn/scikit-learn/issues/21755 */display: inline-block !important;position: relative;}#sk-container-id-1 div.sk-text-repr-fallback {display: none;}</style><div id=\"sk-container-id-1\" class=\"sk-top-container\"><div class=\"sk-text-repr-fallback\"><pre>SVC()</pre><b>In a Jupyter environment, please rerun this cell to show the HTML representation or trust the notebook. <br />On GitHub, the HTML representation is unable to render, please try loading this page with nbviewer.org.</b></div><div class=\"sk-container\" hidden><div class=\"sk-item\"><div class=\"sk-estimator sk-toggleable\"><input class=\"sk-toggleable__control sk-hidden--visually\" id=\"sk-estimator-id-1\" type=\"checkbox\" checked><label for=\"sk-estimator-id-1\" class=\"sk-toggleable__label sk-toggleable__label-arrow\">SVC</label><div class=\"sk-toggleable__content\"><pre>SVC()</pre></div></div></div></div></div>"
      ],
      "text/plain": [
       "SVC()"
      ]
     },
     "execution_count": 39,
     "metadata": {},
     "output_type": "execute_result"
    }
   ],
   "source": [
    "modelo.fit(X=xtrain, y=ytrain)"
   ]
  },
  {
   "cell_type": "code",
   "execution_count": 40,
   "metadata": {},
   "outputs": [],
   "source": [
    "ypred = modelo.predict(xtest)"
   ]
  },
  {
   "cell_type": "code",
   "execution_count": 41,
   "metadata": {},
   "outputs": [
    {
     "name": "stdout",
     "output_type": "stream",
     "text": [
      "Precisión del modelo: 0.9666666666666667\n"
     ]
    }
   ],
   "source": [
    "precision = accuracy_score(ytest, ypred)\n",
    "print(\"Precisión del modelo:\", precision)"
   ]
  },
  {
   "cell_type": "code",
   "execution_count": 43,
   "metadata": {},
   "outputs": [
    {
     "name": "stdout",
     "output_type": "stream",
     "text": [
      "test: andres - predicha: andres\n",
      "test: andres - predicha: andres\n",
      "test: mateo - predicha: mateo\n",
      "test: mateo - predicha: mateo\n",
      "test: mateo - predicha: mateo\n",
      "test: andres - predicha: mateo\n",
      "test: mateo - predicha: mateo\n",
      "test: andres - predicha: andres\n",
      "test: mateo - predicha: mateo\n",
      "test: andres - predicha: andres\n",
      "test: mateo - predicha: mateo\n",
      "test: andres - predicha: andres\n",
      "test: mateo - predicha: mateo\n",
      "test: mateo - predicha: mateo\n",
      "test: mateo - predicha: mateo\n",
      "test: mateo - predicha: mateo\n",
      "test: andres - predicha: andres\n",
      "test: mateo - predicha: mateo\n",
      "test: mateo - predicha: mateo\n",
      "test: andres - predicha: andres\n",
      "test: andres - predicha: andres\n",
      "test: andres - predicha: andres\n",
      "test: mateo - predicha: mateo\n",
      "test: andres - predicha: andres\n",
      "test: mateo - predicha: mateo\n",
      "test: mateo - predicha: mateo\n",
      "test: andres - predicha: andres\n",
      "test: mateo - predicha: mateo\n",
      "test: andres - predicha: andres\n",
      "test: mateo - predicha: mateo\n",
      "test: andres - predicha: andres\n",
      "test: mateo - predicha: mateo\n",
      "test: andres - predicha: andres\n",
      "test: mateo - predicha: mateo\n",
      "test: andres - predicha: andres\n",
      "test: andres - predicha: andres\n",
      "test: andres - predicha: andres\n",
      "test: andres - predicha: andres\n",
      "test: mateo - predicha: mateo\n",
      "test: andres - predicha: andres\n",
      "test: mateo - predicha: mateo\n",
      "test: mateo - predicha: andres\n",
      "test: andres - predicha: andres\n",
      "test: mateo - predicha: mateo\n",
      "test: mateo - predicha: mateo\n",
      "test: mateo - predicha: mateo\n",
      "test: andres - predicha: andres\n",
      "test: mateo - predicha: mateo\n",
      "test: andres - predicha: andres\n",
      "test: andres - predicha: andres\n",
      "test: mateo - predicha: mateo\n",
      "test: andres - predicha: andres\n",
      "test: mateo - predicha: mateo\n",
      "test: mateo - predicha: mateo\n",
      "test: mateo - predicha: mateo\n",
      "test: mateo - predicha: mateo\n",
      "test: mateo - predicha: mateo\n",
      "test: andres - predicha: andres\n",
      "test: mateo - predicha: mateo\n",
      "test: mateo - predicha: mateo\n",
      "test: andres - predicha: andres\n",
      "test: andres - predicha: andres\n",
      "test: mateo - predicha: mateo\n",
      "test: andres - predicha: andres\n",
      "test: mateo - predicha: mateo\n",
      "test: mateo - predicha: mateo\n",
      "test: andres - predicha: andres\n",
      "test: andres - predicha: andres\n",
      "test: andres - predicha: andres\n",
      "test: andres - predicha: andres\n",
      "test: mateo - predicha: andres\n",
      "test: mateo - predicha: mateo\n",
      "test: andres - predicha: andres\n",
      "test: andres - predicha: andres\n",
      "test: andres - predicha: andres\n",
      "test: andres - predicha: andres\n",
      "test: andres - predicha: andres\n",
      "test: andres - predicha: andres\n",
      "test: mateo - predicha: mateo\n",
      "test: mateo - predicha: mateo\n",
      "test: andres - predicha: andres\n",
      "test: mateo - predicha: mateo\n",
      "test: andres - predicha: andres\n",
      "test: andres - predicha: andres\n",
      "test: mateo - predicha: mateo\n",
      "test: mateo - predicha: mateo\n",
      "test: andres - predicha: andres\n",
      "test: mateo - predicha: mateo\n",
      "test: andres - predicha: andres\n",
      "test: mateo - predicha: mateo\n",
      "test: mateo - predicha: mateo\n",
      "test: mateo - predicha: andres\n",
      "test: mateo - predicha: mateo\n",
      "test: andres - predicha: andres\n",
      "test: andres - predicha: andres\n",
      "test: andres - predicha: andres\n",
      "test: mateo - predicha: mateo\n",
      "test: andres - predicha: andres\n",
      "test: mateo - predicha: mateo\n",
      "test: mateo - predicha: mateo\n",
      "test: mateo - predicha: mateo\n",
      "test: andres - predicha: andres\n",
      "test: mateo - predicha: mateo\n",
      "test: andres - predicha: andres\n",
      "test: mateo - predicha: mateo\n",
      "test: andres - predicha: andres\n",
      "test: andres - predicha: andres\n",
      "test: andres - predicha: andres\n",
      "test: andres - predicha: andres\n",
      "test: mateo - predicha: mateo\n",
      "test: mateo - predicha: mateo\n",
      "test: mateo - predicha: mateo\n",
      "test: andres - predicha: andres\n",
      "test: andres - predicha: andres\n",
      "test: andres - predicha: andres\n",
      "test: mateo - predicha: mateo\n",
      "test: andres - predicha: andres\n",
      "test: mateo - predicha: mateo\n",
      "test: andres - predicha: andres\n",
      "test: mateo - predicha: mateo\n"
     ]
    }
   ],
   "source": [
    "for yt, yp in zip(ytest,ypred):\n",
    "    print(f'test: {yt} - predicha: {yp}')"
   ]
  },
  {
   "cell_type": "markdown",
   "metadata": {},
   "source": [
    "descgargar el modelo"
   ]
  },
  {
   "cell_type": "code",
   "execution_count": 11,
   "metadata": {},
   "outputs": [],
   "source": [
    "import pickle"
   ]
  },
  {
   "cell_type": "markdown",
   "metadata": {},
   "source": [
    "guarado  el modelo en un archivo"
   ]
  },
  {
   "cell_type": "code",
   "execution_count": 45,
   "metadata": {},
   "outputs": [],
   "source": [
    "archivo_modelo = 'modelo_svm.pkl'\n",
    "with open(archivo_modelo, 'wb') as archivo:\n",
    "    pickle.dump(modelo, archivo)"
   ]
  },
  {
   "cell_type": "code",
   "execution_count": 12,
   "metadata": {},
   "outputs": [],
   "source": [
    "with open('modelo_svm.pkl', 'rb') as archivo:\n",
    "    modelo = pickle.load(archivo)"
   ]
  },
  {
   "cell_type": "code",
   "execution_count": 16,
   "metadata": {},
   "outputs": [
    {
     "name": "stdout",
     "output_type": "stream",
     "text": [
      "['andres']\n"
     ]
    }
   ],
   "source": [
    "dato = []\n",
    "dato.append(xtest[0])\n",
    "y = modelo.predict(dato)\n",
    "print(y)"
   ]
  }
 ],
 "metadata": {
  "kernelspec": {
   "display_name": "rostros",
   "language": "python",
   "name": "python3"
  },
  "language_info": {
   "codemirror_mode": {
    "name": "ipython",
    "version": 3
   },
   "file_extension": ".py",
   "mimetype": "text/x-python",
   "name": "python",
   "nbconvert_exporter": "python",
   "pygments_lexer": "ipython3",
   "version": "3.9.17"
  },
  "orig_nbformat": 4
 },
 "nbformat": 4,
 "nbformat_minor": 2
}
