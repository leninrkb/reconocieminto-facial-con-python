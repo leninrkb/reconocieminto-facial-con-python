{
 "cells": [
  {
   "cell_type": "code",
   "execution_count": 1,
   "metadata": {},
   "outputs": [],
   "source": [
    "import warnings\n",
    "warnings.filterwarnings('ignore')"
   ]
  },
  {
   "cell_type": "code",
   "execution_count": 2,
   "metadata": {},
   "outputs": [],
   "source": [
    "import datag\n",
    "import cv2"
   ]
  },
  {
   "cell_type": "code",
   "execution_count": 3,
   "metadata": {},
   "outputs": [
    {
     "name": "stdout",
     "output_type": "stream",
     "text": [
      "['andres', 'mateo']\n"
     ]
    }
   ],
   "source": [
    "path_dataset = 'D:/datasets/dataset_mateo/tratados'\n",
    "nombres_directorios = datag.extraer_nombres(path_dataset)\n",
    "print(nombres_directorios)"
   ]
  },
  {
   "cell_type": "code",
   "execution_count": 4,
   "metadata": {},
   "outputs": [
    {
     "name": "stdout",
     "output_type": "stream",
     "text": [
      "{'andres': ['20230628_144038450_iOS.jpg', '20230628_144050082_iOS.jpg', '20230628_144054558_iOS.jpg', '20230628_144101886_iOS.jpg'], 'mateo': ['20230628_144130819_iOS.jpg', '20230628_144140073_iOS.jpg', '20230628_144153350_iOS.jpg', '20230628_144158306_iOS.jpg', '20230628_144207807_iOS.jpg', '20230628_144219966_iOS.jpg']}\n"
     ]
    }
   ],
   "source": [
    "etiquetas_archivos = {}\n",
    "for directorio in nombres_directorios:\n",
    "    nombres_archivos = datag.extraer_nombres(path_dataset + '/' + directorio)\n",
    "    etiquetas_archivos[directorio] = nombres_archivos\n",
    "print(etiquetas_archivos)"
   ]
  },
  {
   "cell_type": "code",
   "execution_count": 5,
   "metadata": {},
   "outputs": [],
   "source": [
    "etiquetas_imgs = {}\n",
    "dimension_img = 100\n",
    "for etiqueta in etiquetas_archivos:\n",
    "    archivos = etiquetas_archivos[etiqueta]\n",
    "    lista = []\n",
    "    for archivo in archivos:\n",
    "        path = path_dataset + '/' + etiqueta + '/' + archivo\n",
    "        img_array = cv2.imread(path)\n",
    "        img_array = datag.redimensionar_img(img_array, dimension_img, dimension_img, interpolacion=datag.cv2.INTER_NEAREST, mantener_aspecto=False)\n",
    "        lista.append(img_array)\n",
    "    etiquetas_imgs[etiqueta] = lista"
   ]
  },
  {
   "cell_type": "code",
   "execution_count": 8,
   "metadata": {},
   "outputs": [],
   "source": [
    "path_salida = 'D:/GitHub/reconocieminto-facial-con-python/dataset'\n",
    "c = 1\n",
    "for etiqueta in etiquetas_imgs:\n",
    "    arrays = etiquetas_imgs[etiqueta]\n",
    "    for index, img_array in enumerate(arrays):\n",
    "        for i in range(5):\n",
    "            nuevo = datag.aumentar_imagen(img_array, path_salida, c, write=False)\n",
    "            path = path_salida + '/' + str(c) + '.jpg'\n",
    "            cv2.imwrite(path, nuevo)\n",
    "            c+=1\n",
    "\n"
   ]
  }
 ],
 "metadata": {
  "kernelspec": {
   "display_name": "rostros",
   "language": "python",
   "name": "python3"
  },
  "language_info": {
   "codemirror_mode": {
    "name": "ipython",
    "version": 3
   },
   "file_extension": ".py",
   "mimetype": "text/x-python",
   "name": "python",
   "nbconvert_exporter": "python",
   "pygments_lexer": "ipython3",
   "version": "3.9.17"
  },
  "orig_nbformat": 4
 },
 "nbformat": 4,
 "nbformat_minor": 2
}
