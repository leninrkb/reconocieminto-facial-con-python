{
 "cells": [
  {
   "cell_type": "code",
   "execution_count": 3,
   "metadata": {},
   "outputs": [],
   "source": [
    "import warnings\n",
    "warnings.filterwarnings('ignore')"
   ]
  },
  {
   "cell_type": "code",
   "execution_count": 4,
   "metadata": {},
   "outputs": [],
   "source": [
    "import datag\n",
    "import cv2\n",
    "import numpy as np"
   ]
  },
  {
   "cell_type": "markdown",
   "metadata": {},
   "source": [
    "leo los directorios, el nombre del directorio sera la etiqueta de las imagenes que contenga"
   ]
  },
  {
   "cell_type": "code",
   "execution_count": 5,
   "metadata": {},
   "outputs": [
    {
     "name": "stdout",
     "output_type": "stream",
     "text": [
      "['Abraham_Danilo_Miranda_Lopez', 'andres', 'Bryan_Eduardo_Martinez_Nunez', 'Luis_Fernando_Zerna_Ramos', 'mateo']\n"
     ]
    }
   ],
   "source": [
    "path_dataset = 'D:/GitHub/reconocieminto-facial-con-python/dataset/'\n",
    "nombres_directorios = datag.extraer_nombres(path_dataset)\n",
    "print(nombres_directorios)"
   ]
  },
  {
   "cell_type": "markdown",
   "metadata": {},
   "source": [
    "agrego el nombre de la etiqueta por cada imagen"
   ]
  },
  {
   "cell_type": "code",
   "execution_count": 6,
   "metadata": {},
   "outputs": [
    {
     "name": "stdout",
     "output_type": "stream",
     "text": [
      "[0, 0, 0, 0, 0, 0, 0, 0, 0, 0, 0, 0, 0, 0, 0, 0, 0, 0, 0, 0, 0, 0, 0, 0, 0, 0, 0, 0, 0, 0, 0, 0, 0, 0, 0, 0, 0, 0, 0, 0, 0, 0, 0, 0, 0, 0, 0, 0, 0, 0, 0, 0, 0, 0, 0, 0, 0, 0, 0, 0, 0, 0, 0, 0, 0, 0, 0, 0, 0, 0, 0, 0, 0, 0, 0, 0, 0, 0, 0, 0, 0, 0, 0, 0, 0, 0, 0, 0, 0, 0, 0, 0, 0, 0, 0, 0, 0, 0, 0, 0, 0, 0, 0, 0, 0, 0, 0, 0, 0, 0, 0, 0, 0, 0, 0, 0, 0, 0, 0, 0, 0, 0, 0, 0, 0, 0, 0, 0, 0, 0, 0, 0, 0, 0, 0, 0, 0, 0, 0, 0, 0, 0, 0, 0, 0, 0, 0, 0, 0, 0, 0, 0, 0, 0, 0, 0, 0, 0, 0, 0, 0, 0, 0, 0, 0, 0, 0, 0, 0, 0, 0, 0, 0, 0, 0, 0, 0, 0, 0, 0, 1, 1, 1, 1, 1, 1, 1, 1, 1, 1, 1, 1, 1, 1, 1, 1, 1, 1, 1, 1, 1, 1, 1, 1, 1, 1, 1, 1, 1, 1, 1, 1, 1, 1, 1, 1, 1, 1, 1, 1, 1, 1, 1, 1, 1, 1, 1, 1, 1, 1, 1, 1, 1, 1, 1, 1, 1, 1, 1, 1, 1, 1, 1, 1, 1, 1, 1, 1, 1, 1, 1, 1, 1, 1, 1, 1, 1, 1, 1, 1, 1, 1, 1, 1, 1, 1, 1, 1, 1, 1, 1, 1, 1, 1, 1, 1, 1, 1, 1, 1, 1, 1, 1, 1, 1, 1, 1, 1, 1, 1, 1, 1, 1, 1, 1, 1, 1, 1, 1, 1, 1, 1, 1, 1, 1, 1, 1, 1, 1, 1, 1, 1, 1, 1, 1, 1, 1, 1, 1, 1, 1, 1, 1, 1, 1, 1, 1, 1, 1, 1, 1, 1, 1, 1, 1, 1, 1, 1, 1, 1, 1, 1, 1, 1, 1, 1, 1, 1, 1, 1, 1, 1, 1, 1, 1, 1, 1, 1, 1, 1, 2, 2, 2, 2, 2, 2, 2, 2, 2, 2, 2, 2, 2, 2, 2, 2, 2, 2, 2, 2, 2, 2, 2, 2, 2, 2, 2, 2, 2, 2, 2, 2, 2, 2, 2, 2, 2, 2, 2, 2, 2, 2, 2, 2, 2, 2, 2, 2, 2, 2, 2, 2, 2, 2, 2, 2, 2, 2, 2, 2, 2, 2, 2, 2, 2, 2, 2, 2, 2, 2, 2, 2, 2, 2, 2, 2, 2, 2, 2, 2, 2, 2, 2, 2, 2, 2, 2, 2, 2, 2, 2, 2, 2, 2, 2, 2, 2, 2, 2, 2, 2, 2, 2, 2, 2, 2, 2, 2, 2, 2, 2, 2, 2, 2, 2, 2, 2, 2, 2, 2, 2, 2, 2, 2, 2, 2, 2, 2, 2, 2, 2, 2, 2, 2, 2, 2, 2, 2, 2, 2, 2, 2, 2, 2, 2, 2, 2, 2, 2, 2, 2, 2, 2, 2, 2, 2, 2, 2, 2, 2, 2, 2, 2, 2, 2, 2, 2, 2, 2, 2, 2, 2, 2, 2, 2, 2, 2, 2, 2, 2, 3, 3, 3, 3, 3, 3, 3, 3, 3, 3, 3, 3, 3, 3, 3, 3, 3, 3, 3, 3, 3, 3, 3, 3, 3, 3, 3, 3, 3, 3, 3, 3, 3, 3, 3, 3, 3, 3, 3, 3, 3, 3, 3, 3, 3, 3, 3, 3, 3, 3, 3, 3, 3, 3, 3, 3, 3, 3, 3, 3, 3, 3, 3, 3, 3, 3, 3, 3, 3, 3, 3, 3, 3, 3, 3, 3, 3, 3, 3, 3, 3, 3, 3, 3, 3, 3, 3, 3, 3, 3, 3, 3, 3, 3, 3, 3, 3, 3, 3, 3, 3, 3, 3, 3, 3, 3, 3, 3, 3, 3, 3, 3, 3, 3, 3, 3, 3, 3, 3, 3, 3, 3, 3, 3, 3, 3, 3, 3, 3, 3, 3, 3, 3, 3, 3, 3, 3, 3, 3, 3, 3, 3, 3, 3, 3, 3, 3, 3, 3, 3, 3, 3, 3, 3, 3, 3, 3, 3, 3, 3, 3, 3, 3, 3, 3, 3, 3, 3, 3, 3, 3, 3, 3, 3, 3, 3, 3, 3, 3, 3, 4, 4, 4, 4, 4, 4, 4, 4, 4, 4, 4, 4, 4, 4, 4, 4, 4, 4, 4, 4, 4, 4, 4, 4, 4, 4, 4, 4, 4, 4, 4, 4, 4, 4, 4, 4, 4, 4, 4, 4, 4, 4, 4, 4, 4, 4, 4, 4, 4, 4, 4, 4, 4, 4, 4, 4, 4, 4, 4, 4, 4, 4, 4, 4, 4, 4, 4, 4, 4, 4, 4, 4, 4, 4, 4, 4, 4, 4, 4, 4, 4, 4, 4, 4, 4, 4, 4, 4, 4, 4, 4, 4, 4, 4, 4, 4, 4, 4, 4, 4, 4, 4, 4, 4, 4, 4, 4, 4, 4, 4, 4, 4, 4, 4, 4, 4, 4, 4, 4, 4, 4, 4, 4, 4, 4, 4, 4, 4, 4, 4, 4, 4, 4, 4, 4, 4, 4, 4, 4, 4, 4, 4, 4, 4, 4, 4, 4, 4, 4, 4, 4, 4, 4, 4, 4, 4, 4, 4, 4, 4, 4, 4, 4, 4, 4, 4, 4, 4, 4, 4, 4, 4, 4, 4, 4, 4, 4, 4, 4, 4]\n",
      "900\n"
     ]
    }
   ],
   "source": [
    "etiquetas = []\n",
    "for index, nombre in enumerate(nombres_directorios):\n",
    "    imgs = datag.extraer_nombres(path_dataset + nombre)\n",
    "    total = len(imgs)\n",
    "    for  i in range(total):\n",
    "        etiquetas.append(index)\n",
    "print(etiquetas)\n",
    "print(len(etiquetas))"
   ]
  },
  {
   "cell_type": "markdown",
   "metadata": {},
   "source": [
    "cargo las imagenes"
   ]
  },
  {
   "cell_type": "code",
   "execution_count": 7,
   "metadata": {},
   "outputs": [
    {
     "name": "stdout",
     "output_type": "stream",
     "text": [
      "total datos: 900\n"
     ]
    }
   ],
   "source": [
    "imagenes = [] \n",
    "for nombre in nombres_directorios:\n",
    "    imgs = datag.extraer_nombres(path_dataset + nombre)\n",
    "    for img in imgs:\n",
    "        img_ = cv2.imread(path_dataset + nombre + '/' + img, cv2.IMREAD_GRAYSCALE)\n",
    "        # img_ = img_.flatten()\n",
    "        imagenes.append(img_)\n",
    "print(f'total datos: {len(imagenes)}')"
   ]
  },
  {
   "cell_type": "code",
   "execution_count": 18,
   "metadata": {},
   "outputs": [],
   "source": [
    "# fisher face recognizer \n",
    "# LBPH face recognizer \n",
    "# Eigen face recognizer \n",
    "\n",
    "modelo = cv2.face.LBPHFaceRecognizer_create()\n",
    "modelo.train(np.array(imagenes), np.array(etiquetas))\n",
    "modelo.write('rostros.xml')"
   ]
  },
  {
   "cell_type": "code",
   "execution_count": 39,
   "metadata": {},
   "outputs": [],
   "source": [
    "import math\n",
    "\n",
    "\n",
    "def get_tick_positions(data: list):\n",
    "    if len(data) == 0:\n",
    "        return []\n",
    "    retpoints = []\n",
    "    data_range = max(data) - min(data)\n",
    "    lower_bound = min(data) - data_range/10\n",
    "    upper_bound = max(data) + data_range/10\n",
    "    view_range = upper_bound - lower_bound\n",
    "    num = lower_bound\n",
    "    n = math.floor(math.log10(view_range) - 1)\n",
    "    interval = 10**n\n",
    "    num_ticks = 1\n",
    "    while num <= upper_bound:\n",
    "        num += interval\n",
    "        num_ticks += 1\n",
    "        if num_ticks > 10:\n",
    "            if interval == 10 ** n:\n",
    "                interval = 2 * 10 ** n\n",
    "            elif interval == 2 * 10 ** n:\n",
    "                interval = 4 * 10 ** n\n",
    "            elif interval == 4 * 10 ** n:\n",
    "                interval = 5 * 10 ** n\n",
    "            else:\n",
    "                n += 1\n",
    "                interval = 10 ** n\n",
    "            num = lower_bound\n",
    "            num_ticks = 1\n",
    "            \n",
    "    if view_range >= 10:\n",
    "        copy_interval = interval\n",
    "    else:\n",
    "        if interval == 10 ** n:\n",
    "            copy_interval = 1\n",
    "        elif interval == 2 * 10 ** n:\n",
    "            copy_interval = 2\n",
    "        elif interval == 4 * 10 ** n:\n",
    "            copy_interval = 4\n",
    "        else:\n",
    "            copy_interval = 5\n",
    "    first_val = 0\n",
    "    prev_val = 0\n",
    "    times = 0\n",
    "    temp_log = math.log10(interval)\n",
    "    if math.isclose(lower_bound, 0):\n",
    "        first_val = 0\n",
    "    elif lower_bound < 0:\n",
    "        if upper_bound < -2*interval:\n",
    "            if n < 0:\n",
    "                copy_ub = round(upper_bound*10**(abs(temp_log) + 1))\n",
    "                times = copy_ub // round(interval*10**(abs(temp_log) + 1)) + 2\n",
    "            else:\n",
    "                times = upper_bound // round(interval) + 2\n",
    "        while first_val >= lower_bound:\n",
    "            prev_val = first_val\n",
    "            first_val = times * copy_interval\n",
    "            if n < 0:\n",
    "                first_val *= (10**n)\n",
    "            times -= 1\n",
    "        first_val = prev_val\n",
    "        times += 3\n",
    "    else:\n",
    "        if lower_bound > 2*interval:\n",
    "            if n < 0:\n",
    "                copy_ub = round(lower_bound*10**(abs(temp_log) + 1))\n",
    "                times = copy_ub // round(interval*10**(abs(temp_log) + 1)) - 2\n",
    "            else:\n",
    "                times = lower_bound // round(interval) - 2\n",
    "        while first_val < lower_bound:\n",
    "            first_val = times*copy_interval\n",
    "            if n < 0:\n",
    "                first_val *= (10**n)\n",
    "            times += 1\n",
    "    if n < 0:\n",
    "        retpoints.append(first_val)\n",
    "    else:\n",
    "        retpoints.append(round(first_val))\n",
    "    val = first_val\n",
    "    times = 1\n",
    "    while val <= upper_bound:\n",
    "        val = first_val + times * interval\n",
    "        if n < 0:\n",
    "            retpoints.append(val)\n",
    "        else:\n",
    "            retpoints.append(round(val))\n",
    "        times += 1\n",
    "    retpoints.pop()\n",
    "    return retpoints"
   ]
  },
  {
   "cell_type": "code",
   "execution_count": 40,
   "metadata": {},
   "outputs": [
    {
     "name": "stdout",
     "output_type": "stream",
     "text": [
      "[0, 20, 40, 60, 80, 100, 120]\n"
     ]
    }
   ],
   "source": [
    "rseult = get_tick_positions([0, 110])\n",
    "print(rseult)"
   ]
  },
  {
   "cell_type": "code",
   "execution_count": 87,
   "metadata": {},
   "outputs": [],
   "source": [
    "import math\n",
    "\n",
    "def round_to_next_magnitude(number):\n",
    "    magnitude = math.floor(math.log10(abs(number)))\n",
    "    rounding_factor = 10 ** magnitude\n",
    "    rounded_number = math.ceil(number / rounding_factor)\n",
    "    result = rounded_number * rounding_factor\n",
    "    return result"
   ]
  },
  {
   "cell_type": "code",
   "execution_count": 90,
   "metadata": {},
   "outputs": [
    {
     "name": "stdout",
     "output_type": "stream",
     "text": [
      "9.0\n"
     ]
    }
   ],
   "source": [
    "resp = round_to_next_magnitude(9)\n",
    "print(resp)"
   ]
  },
  {
   "cell_type": "code",
   "execution_count": 61,
   "metadata": {},
   "outputs": [
    {
     "ename": "TypeError",
     "evalue": "object of type 'int' has no len()",
     "output_type": "error",
     "traceback": [
      "\u001b[1;31m---------------------------------------------------------------------------\u001b[0m",
      "\u001b[1;31mTypeError\u001b[0m                                 Traceback (most recent call last)",
      "Cell \u001b[1;32mIn[61], line 1\u001b[0m\n\u001b[1;32m----> 1\u001b[0m \u001b[39mlen\u001b[39;49m(\u001b[39m123\u001b[39;49m)\n",
      "\u001b[1;31mTypeError\u001b[0m: object of type 'int' has no len()"
     ]
    }
   ],
   "source": []
  }
 ],
 "metadata": {
  "kernelspec": {
   "display_name": "rostros",
   "language": "python",
   "name": "python3"
  },
  "language_info": {
   "codemirror_mode": {
    "name": "ipython",
    "version": 3
   },
   "file_extension": ".py",
   "mimetype": "text/x-python",
   "name": "python",
   "nbconvert_exporter": "python",
   "pygments_lexer": "ipython3",
   "version": "3.8.17"
  },
  "orig_nbformat": 4
 },
 "nbformat": 4,
 "nbformat_minor": 2
}
