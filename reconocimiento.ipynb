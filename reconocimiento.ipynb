{
 "cells": [
  {
   "cell_type": "code",
   "execution_count": 1,
   "metadata": {},
   "outputs": [],
   "source": [
    "import cv2\n",
    "import pickle"
   ]
  },
  {
   "cell_type": "code",
   "execution_count": 2,
   "metadata": {},
   "outputs": [],
   "source": [
    "with open('modelo_svm.pkl', 'rb') as archivo:\n",
    "    modelo = pickle.load(archivo)"
   ]
  },
  {
   "cell_type": "code",
   "execution_count": 3,
   "metadata": {},
   "outputs": [],
   "source": [
    "def predecir_img(modelo, roi):\n",
    "    roi = roi.flatten()\n",
    "    dato = [roi]\n",
    "    pred = modelo.predict(dato)\n",
    "    return pred"
   ]
  },
  {
   "cell_type": "code",
   "execution_count": 10,
   "metadata": {},
   "outputs": [
    {
     "name": "stdout",
     "output_type": "stream",
     "text": [
      "clase: ['mateo']]\r"
     ]
    }
   ],
   "source": [
    "camara = cv2.VideoCapture(0)\n",
    "\n",
    "ancho_deseado = 500\n",
    "alto_deseado = 500\n",
    "\n",
    "marco = 300\n",
    "margen = (ancho_deseado - marco) // 2\n",
    "coord_x1 = margen\n",
    "coord_y1 = margen\n",
    "coord_x2 = ancho_deseado - margen\n",
    "coord_y2 = alto_deseado - margen\n",
    "color_marco = (200, 0, 0)\n",
    "\n",
    "while True:\n",
    "    ret, frame = camara.read()\n",
    "    frame = cv2.flip(frame, 1)\n",
    "    frame = cv2.resize(frame, (ancho_deseado, alto_deseado))\n",
    "\n",
    "    frame_grises = cv2.cvtColor(frame, cv2.COLOR_BGR2GRAY)\n",
    "    roi = frame_grises[coord_y1:coord_y2, coord_x1:coord_x2]\n",
    "    roi = cv2.resize(roi, (100, 100))\n",
    "    prediccion = predecir_img(modelo, roi)\n",
    "    print(f'clase: {prediccion}', end='\\r')\n",
    "\n",
    "    cv2.rectangle(frame, (margen, margen), (coord_x2, coord_y2), color_marco, 2)\n",
    "    cv2.imshow('camara', frame)\n",
    "    if cv2.waitKey(1) & 0xFF == ord('q'):\n",
    "        break\n",
    "\n",
    "camara.release()\n",
    "cv2.destroyAllWindows()"
   ]
  },
  {
   "cell_type": "code",
   "execution_count": null,
   "metadata": {},
   "outputs": [],
   "source": [
    "camara.release()\n",
    "cv2.destroyAllWindows()"
   ]
  }
 ],
 "metadata": {
  "kernelspec": {
   "display_name": "rostros",
   "language": "python",
   "name": "python3"
  },
  "language_info": {
   "codemirror_mode": {
    "name": "ipython",
    "version": 3
   },
   "file_extension": ".py",
   "mimetype": "text/x-python",
   "name": "python",
   "nbconvert_exporter": "python",
   "pygments_lexer": "ipython3",
   "version": "3.9.17"
  },
  "orig_nbformat": 4
 },
 "nbformat": 4,
 "nbformat_minor": 2
}
